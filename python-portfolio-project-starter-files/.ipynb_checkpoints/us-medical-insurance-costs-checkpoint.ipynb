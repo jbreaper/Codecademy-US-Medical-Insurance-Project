{
 "cells": [
  {
   "cell_type": "markdown",
   "metadata": {},
   "source": [
    "# U.S. Medical Insurance Costs"
   ]
  },
  {
   "cell_type": "markdown",
   "metadata": {},
   "source": [
    "# Goals\n",
    "The main goal of this project is to create a python script that will analyse a data set in a way to gain a meaningful insight into the data.\n",
    "\n",
    "# Data\n",
    "The data set being analysed is a set of datapoints relating to the health insurance of various users from around the USA.\n",
    "\n",
    "As far as the developer's aware, this data was gathered ethically.\n",
    "\n",
    "The data set contains 7 catagories:\n",
    "- age; Age of the user\n",
    "- sex; Sex of the user\n",
    "- bmi; Measure of body mass that can be used to gauge a veriety of possible health conditions\n",
    "- children; Number of children included in the users plan\n",
    "- smoker; Has the user reported that they are a smoker?\n",
    "- region; Regional location of the user\n",
    "- charges; Annual cost of the insurance plan\n",
    "\n",
    "\n",
    "# Analysis\n",
    "Due to the nature of the data set, the obvious paths of inquary would relate to the \"charges\" datapoint.\n",
    "As this data set is related to the cost of various users health insurance, a clear analysis would be to investigate the relationship between each of the various factors of a user to their insurance cost. e.g.\n",
    "- users location and it's relationship to cost\n",
    "- age and it's relationship to cost\n",
    "- bmi and it's relationship to cost\n",
    "\n",
    "While a main factor can be analysed, the additional factors can't be ignored in this analysis.\n",
    "The data points must be categorised and subcategorised as much as possible while still allowing for a meaningful comparison.\n",
    "\n",
    "With this taken into account, the following data comparisons were chosen:\n",
    "1. age to region\n",
    "    a. Region age averages\n",
    "        i. How they compair to each other\n",
    "        ii. How they compair to the nation average\n",
    "    d. Average cost per age bracket per region\n",
    "2. smoking to bmi\n",
    "    a. percentage smokers per BMI bracket\n",
    "        i. regional comparison\n",
    "    b. comparison of costs per BMI range between smokers and non-smokers\n",
    "        i. regional comparison\n",
    "3. age to children\n",
    "    a. per region analysis"
   ]
  },
  {
   "cell_type": "code",
   "execution_count": null,
   "metadata": {},
   "outputs": [],
   "source": [
    "import csv"
   ]
  }
 ],
 "metadata": {
  "kernelspec": {
   "display_name": "Python 3 (ipykernel)",
   "language": "python",
   "name": "python3"
  },
  "language_info": {
   "codemirror_mode": {
    "name": "ipython",
    "version": 3
   },
   "file_extension": ".py",
   "mimetype": "text/x-python",
   "name": "python",
   "nbconvert_exporter": "python",
   "pygments_lexer": "ipython3",
   "version": "3.11.5"
  }
 },
 "nbformat": 4,
 "nbformat_minor": 4
}
