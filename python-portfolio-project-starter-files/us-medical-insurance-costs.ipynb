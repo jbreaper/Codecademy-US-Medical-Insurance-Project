{
 "cells": [
  {
   "cell_type": "markdown",
   "metadata": {},
   "source": [
    "# U.S. Medical Insurance Costs"
   ]
  },
  {
   "cell_type": "markdown",
   "metadata": {},
   "source": [
    "# Goals\n",
    "The main goal of this project is to create a python script that will analyse a data set in a way to gain a meaningful insight into the data.\n",
    "\n",
    "# Data\n",
    "The data set being analysed is a set of data points relating to the health insurance of various users from around the USA.\n",
    "\n",
    "As far as the developer's aware, this data was gathered ethically.\n",
    "\n",
    "The data set contains 7 categories:\n",
    "- age; Age of the user\n",
    "- sex; Sex of the user\n",
    "- bmi; Measure of body mass that can be used to gauge a variety of possible health conditions\n",
    "- children; Number of children included in the users plan\n",
    "- smoker; Has the user reported that they are a smoker?\n",
    "- region; Regional location of the user\n",
    "- charges; Annual cost of the insurance plan\n",
    "\n",
    "\n",
    "# Analysis\n",
    "Due to the nature of the data set, the obvious paths of inquiry would relate to the \"charges\" data point.\n",
    "As this data set is related to the cost of various users health insurance, a clear analysis would be to investigate the relationship between each of the various factors of a user to their insurance cost. e.g.\n",
    "- users location and it's relationship to cost\n",
    "- age and it's relationship to cost\n",
    "- bmi and it's relationship to cost\n",
    "\n",
    "While a main factor can be analysed, the additional factors can't be ignored in this analysis.\n",
    "The data points must be categorised and subcategorised as much as possible while still allowing for a meaningful comparison.\n",
    "\n",
    "With this taken into account, the following data comparisons were chosen:\n",
    "1. age to region\n",
    "   1. Region age averages\n",
    "      1. How they compare to each other\n",
    "      2. How they compare to the nation average\n",
    "   2. Average cost per age bracket per region\n",
    "2. smoking to bmi\n",
    "   1. percentage smokers per BMI bracket\n",
    "      1. regional comparison\n",
    "   2. comparison of costs per BMI range between smokers and non-smokers\n",
    "      1. regional comparison\n",
    "3. age to children\n",
    "   1. per region analysis"
   ]
  },
  {
   "cell_type": "code",
   "execution_count": 2,
   "metadata": {},
   "outputs": [],
   "source": [
    "import csv\n",
    "\n",
    "\n",
    "# Age to Region variables\n",
    "ageRegion = {}\n",
    "aveAgeRegional = {}\n",
    "aveAgeNational = {}\n",
    "ageBracketRegional = {}\n",
    "ageBracketNational = {}\n",
    "\n",
    "# Smoking to BMI variables\n",
    "smokerBMIRegional = {}\n",
    "smokerBMINational = {}\n",
    "nonSmokerBMIRegional = {}\n",
    "nonSmokerBMINational = {}\n",
    "\n",
    "# age to children\n",
    "ageBracketChildrenRegional = {}\n",
    "ageBracketChildrenNational = {}"
   ]
  },
  {
   "cell_type": "code",
   "execution_count": null,
   "metadata": {},
   "outputs": [],
   "source": [
    "with open('insurance.csv', 'r') as csvFile:\n",
    "    dataSet = csv.DictReader(csvFile)\n",
    "    for row in dataSet:\n",
    "        "
   ]
  }
 ],
 "metadata": {
  "kernelspec": {
   "display_name": "base",
   "language": "python",
   "name": "python3"
  },
  "language_info": {
   "codemirror_mode": {
    "name": "ipython",
    "version": 3
   },
   "file_extension": ".py",
   "mimetype": "text/x-python",
   "name": "python",
   "nbconvert_exporter": "python",
   "pygments_lexer": "ipython3",
   "version": "3.11.5"
  },
  "polyglot_notebook": {
   "kernelInfo": {
    "defaultKernelName": "csharp",
    "items": [
     {
      "aliases": [],
      "name": "csharp"
     }
    ]
   }
  }
 },
 "nbformat": 4,
 "nbformat_minor": 4
}
